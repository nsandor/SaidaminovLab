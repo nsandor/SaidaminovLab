{
 "cells": [
  {
   "cell_type": "code",
   "execution_count": 32,
   "metadata": {},
   "outputs": [
    {
     "data": {
      "text/plain": [
       "(['E9', '01', '08', '57', '4C', '02', '62', '5a', '00', '01', '00', '29'],\n",
       " bytearray(b'\\xe9\\x01\\x08WL\\x02bZ\\x00\\x01\\x00)'))"
      ]
     },
     "execution_count": 32,
     "metadata": {},
     "output_type": "execute_result"
    }
   ],
   "source": [
    "pump_address = '01'\n",
    "length_pdu = '08'\n",
    "command_characters = '57 4C'\n",
    "flow_rate = 40000000 # nL/min ()\n",
    "state1 = '01' # 01 for start pump, 00 for stop pump, 11 for prime pump\n",
    "state2 = '00' # 00 for counter-clock wise, 01 for clock wise\n",
    "\n",
    "# The customXOR function is used to strip whitespace characters\n",
    "# from the PDU and split it by any whitespace in order to compute\n",
    "# the XOR of the different bytes within the PDU\n",
    "\n",
    "def customXOR(input_string):\n",
    "    # strip whitespace characters and split by any whitespace\n",
    "    hex_values = input_string.strip().split()\n",
    "\n",
    "    # compute the XOR of the different bytes within the PDU\n",
    "    result = 0\n",
    "    for value in hex_values:\n",
    "        result ^= int(value, 16)\n",
    "\n",
    "    # return the XOR result of the PDU\n",
    "    return hex(result)[2:]\n",
    "\n",
    "def generate_pdu(command_characters,flow_rate,state1,state2):\n",
    "    # make sure the flow rate is interger\n",
    "    flow_rate_int = int(flow_rate)\n",
    "    # convert to hex number\n",
    "    hex_flow_rate = hex(flow_rate_int)\n",
    "    # remove the prefix 0x and make 8 digit str\n",
    "    hex_flow_rate_str = hex_flow_rate[2:].zfill(8)\n",
    "    # split each 2 digit\n",
    "    chunks = [hex_flow_rate_str[i:i+2] for i in range(0, len(hex_flow_rate_str), 2)]\n",
    "    # combine with ''\n",
    "    formatted_string = ' '.join(chunks)\n",
    "    # combine all parameters\n",
    "    all_chunks = [command_characters,chunks[0],chunks[1],chunks[2],chunks[3],state1,state2]\n",
    "    formatted_string = ' '.join(all_chunks)\n",
    "    return formatted_string\n",
    "\n",
    "def generate_fcs(pump_address,length_pdu,pdu):\n",
    "    xor_pdu = customXOR(pdu)\n",
    "    # calculate the frame check sequence (hex input and output base)\n",
    "    frame_check_sequence = \"{:x}\".format(int(pump_address, 16) ^\n",
    "    int(length_pdu, 16) ^ int(xor_pdu, 16))\n",
    "    return frame_check_sequence\n",
    "\n",
    "# https://blog.darwin-microfluidics.com/control-command-string-generator-for-longer-peristaltic-pumps/\n",
    "# Set running parameter (flow rate)\n",
    "def generate_pump_command(flow_rate,state1,state2):\n",
    "    start_flag = 'E9'\n",
    "    pdu = generate_pdu(command_characters,flow_rate,state1,state2)\n",
    "    frame_check_sequence = generate_fcs(pump_address,length_pdu,pdu)\n",
    "\n",
    "    params = [start_flag,pump_address,length_pdu,pdu,frame_check_sequence]\n",
    "    hex_values = ' '.join(params).split()\n",
    "    result = bytearray(int(value, 16) for value in hex_values)\n",
    "\n",
    "    return hex_values, result\n",
    "\n",
    "generate_pump_command(flow_rate,state1,state2)\n",
    "    "
   ]
  },
  {
   "cell_type": "code",
   "execution_count": null,
   "metadata": {},
   "outputs": [],
   "source": [
    "import serial\n",
    "import time\n",
    "\n",
    "def pump_connect(com_port):\n",
    "    try:\n",
    "        pump = serial.Serial(port=com_port, baudrate=9600, parity =serial.PARITY_NONE, bytesize = 8, stopbits = 1,  timeout = None, xonxoff = 0, rtscts = 0)\n",
    "        print(f\"Connected to pump on {com_port}\")\n",
    "        return pump\n",
    "    except serial.SerialException as e:\n",
    "        print(f\"Error: {e}\")\n",
    "        return None\n",
    "    \n",
    "# pump conncetion\n",
    "com_port_number = 4\n",
    "pump = pump_connect(f'COM{com_port_number}')\n",
    "\n",
    "# Run pump 1 clockise at flow rate of 4 mL/min \n",
    "Data = bytearray(b'\\xE9\\x01\\x08\\x57\\x4C\\x00\\x3D\\x09\\x00\\x01\\x01\\x26')\n",
    "pump.write(Data)\n",
    "time.sleep(5)\n",
    "# Stop the pump\n",
    "Data = bytearray(b'\\xE9\\x01\\x08\\x57\\x4C\\x00\\x2D\\xC6\\xC0\\x00\\x00\\x39')\n",
    "pump.write(Data)\n",
    "# Close connection\n",
    "pump.close()"
   ]
  }
 ],
 "metadata": {
  "kernelspec": {
   "display_name": "Python 3",
   "language": "python",
   "name": "python3"
  },
  "language_info": {
   "codemirror_mode": {
    "name": "ipython",
    "version": 3
   },
   "file_extension": ".py",
   "mimetype": "text/x-python",
   "name": "python",
   "nbconvert_exporter": "python",
   "pygments_lexer": "ipython3",
   "version": "3.10.6"
  }
 },
 "nbformat": 4,
 "nbformat_minor": 2
}
