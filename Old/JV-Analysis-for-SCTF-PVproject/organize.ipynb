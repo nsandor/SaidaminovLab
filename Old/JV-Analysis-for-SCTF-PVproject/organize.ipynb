{
 "cells": [
  {
   "cell_type": "code",
   "execution_count": 10,
   "metadata": {},
   "outputs": [
    {
     "name": "stdout",
     "output_type": "stream",
     "text": [
      "01: 1_M2PSpin-1mgml\n",
      "02: 2_M2PTrans-1mgml\n",
      "03: 3_M2PSpin-halfmgml\n",
      "04: 4_M2PTransfer-halfmgml\n",
      "05: 5_Ref_M2P\n",
      "06: 6_M2PSpin-2mgml\n",
      "07: 7_M2PTrans-2mgml\n",
      "08: Test\n",
      "\n",
      "Folder list updated\n",
      "01: 1_M2PSpin-1mgml\n",
      "02: 2_M2PTrans-1mgml\n",
      "03: 3_M2PSpin-halfmgml\n",
      "04: 4_M2PTransfer-halfmgml\n",
      "05: 5_Ref_M2P\n",
      "06: 6_M2PSpin-2mgml\n",
      "07: 7_M2PTrans-2mgml\n"
     ]
    }
   ],
   "source": [
    "import JVanalysis as jv\n",
    "\n",
    "# Choose the measurement folder (ex; M240429) to analyze\n",
    "# The output shows the contents in the folder\n",
    "project_dir = '/Users/yukiharuta/Desktop/vishal_JV'\n",
    "# folder_list = jv.start_analysis(f'{project_dir}/C240303/F240327_B1/M240415')\n",
    "folder_list = jv.start_analysis(f'{project_dir}/C240303/F240325_B2/M240429')"
   ]
  },
  {
   "cell_type": "code",
   "execution_count": 11,
   "metadata": {},
   "outputs": [
    {
     "name": "stdout",
     "output_type": "stream",
     "text": [
      "COMPLETE\n"
     ]
    }
   ],
   "source": [
    "# Choose file path for cell information\n",
    "cell_info_path = f'{project_dir}/Cell-information.xlsx' \n",
    "\n",
    "# 1. Update cell information\n",
    "#    if there is an exsiting excel file, the program update it\n",
    "#    if not, the program creates a new excel file\n",
    "#    Column 'Area_new' won't be updated because we except the values are manually input\n",
    "jv.update_cell_information(folder_list, cell_info_path)"
   ]
  },
  {
   "cell_type": "code",
   "execution_count": 12,
   "metadata": {},
   "outputs": [
    {
     "name": "stdout",
     "output_type": "stream",
     "text": [
      "\n",
      "COMPLETE\n"
     ]
    }
   ],
   "source": [
    "save_folder_dir = f'{project_dir}/JV-csv-data' # for JV.csv data\n",
    "performance_csv_path = f'{project_dir}/JV-csv-data/_summary.csv' # for performance summary\n",
    "\n",
    "# 1. Save all J-V data\n",
    "#    all dat data will be converted to csv file and V, I, J will be saved.\n",
    "#    filename will be renamed\n",
    "# 2. Update _summary.csv\n",
    "#    cell performance will be stored in this csv file\n",
    "\n",
    "jv.save_all_dat_as_csv(folder_list, save_folder_dir, performance_csv_path)"
   ]
  },
  {
   "cell_type": "code",
   "execution_count": 13,
   "metadata": {},
   "outputs": [
    {
     "name": "stdout",
     "output_type": "stream",
     "text": [
      "COMPLETE\n"
     ]
    }
   ],
   "source": [
    "jv_folder_dir = f'{project_dir}/JV-csv-data' # for JV.csv data\n",
    "performance_csv_path = f'{project_dir}//JV-csv-data/_summary.csv' # for performance summary\n",
    "cell_info_path = f'{project_dir}/Cell-information.xlsx' # File path for cell information\n",
    "performance_summary_path = f'{project_dir}/Performance.xlsx' # for performance summary dataframe\n",
    "params = [jv_folder_dir,performance_csv_path,cell_info_path,performance_summary_path]\n",
    "\n",
    "# 1. Update performance summary data frame based on cell-information and JV-csv-data\n",
    "jv.update_cell_performances(params)"
   ]
  },
  {
   "cell_type": "code",
   "execution_count": null,
   "metadata": {},
   "outputs": [],
   "source": [
    "import JVanalysis as jv\n",
    "jv.decode_cell_hex_id()"
   ]
  },
  {
   "cell_type": "code",
   "execution_count": null,
   "metadata": {},
   "outputs": [],
   "source": [
    "jv_folder_dir = f'{project_dir}/JV-csv-data' # for JV.csv data\n",
    "cell_info_path = f'{project_dir}/Cell-information.xlsx' # File path for cell information\n",
    "performance_summary_path = f'{project_dir}/Performance.xlsx' # for performance summary dataframe\n",
    "performance_csv_path = f'{project_dir}//JV-csv-data/_summary.csv' # for performance summary\n",
    "\n",
    "params = [folder_list, jv_folder_dir, cell_info_path, performance_summary_path,performance_csv_path]\n",
    "\n",
    "# Select the best J-V for each cell measurement\n",
    "jv.select_best_curve(params)"
   ]
  },
  {
   "cell_type": "code",
   "execution_count": null,
   "metadata": {},
   "outputs": [],
   "source": [
    "\"\"\"\n",
    "If you want to select files for a specific folder\n",
    "\"\"\"\n",
    "\n",
    "selected_folder = ['/Users/yukiharuta/Desktop/vishal_JV/C240303/F240327_B1/M240415/1_M2PSPIN-2mgml']\n",
    "\n",
    "jv_folder_dir = f'{project_dir}/JV-csv-data' # for JV.csv data\n",
    "cell_info_path = f'{project_dir}/Cell-information.xlsx' # File path for cell information\n",
    "performance_summary_path = f'{project_dir}/Performance.xlsx' # for performance summary dataframe\n",
    "performance_csv_path = f'{project_dir}//JV-csv-data/_summary.csv' # for performance summary\n",
    "\n",
    "params = [selected_folder, jv_folder_dir, cell_info_path, performance_summary_path,performance_csv_path]\n",
    "# Select the best J-V for each cell measurement\n",
    "jv.select_best_curve(params)"
   ]
  },
  {
   "cell_type": "code",
   "execution_count": null,
   "metadata": {},
   "outputs": [],
   "source": []
  }
 ],
 "metadata": {
  "kernelspec": {
   "display_name": "Python 3",
   "language": "python",
   "name": "python3"
  },
  "language_info": {
   "codemirror_mode": {
    "name": "ipython",
    "version": 3
   },
   "file_extension": ".py",
   "mimetype": "text/x-python",
   "name": "python",
   "nbconvert_exporter": "python",
   "pygments_lexer": "ipython3",
   "version": "3.10.6"
  }
 },
 "nbformat": 4,
 "nbformat_minor": 2
}
