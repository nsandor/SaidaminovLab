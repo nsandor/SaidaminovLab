{
 "cells": [
  {
   "cell_type": "code",
   "execution_count": 1,
   "id": "b2b3c7a3-e86e-4f66-8226-6b0c49e6580c",
   "metadata": {},
   "outputs": [
    {
     "name": "stdout",
     "output_type": "stream",
     "text": [
      "Cloning into 'spekpy_release'...\n",
      "remote: Enumerating objects: 973, done.\u001b[K\n",
      "remote: Counting objects: 100% (973/973), done.\u001b[K\n",
      "remote: Compressing objects: 100% (306/306), done.\u001b[K\n",
      "remote: Total 973 (delta 806), reused 683 (delta 649), pack-reused 0\u001b[K\n",
      "Receiving objects: 100% (973/973), 90.22 MiB | 11.54 MiB/s, done.\n",
      "Resolving deltas: 100% (806/806), done.\n"
     ]
    }
   ],
   "source": [
    "! git clone https://bitbucket.org/spekpy/spekpy_release.git"
   ]
  },
  {
   "cell_type": "code",
   "execution_count": 2,
   "id": "d7e7c15d-b8ad-405d-8e5e-9e11369a8ffd",
   "metadata": {},
   "outputs": [
    {
     "name": "stdout",
     "output_type": "stream",
     "text": [
      "Processing ./spekpy_release\n",
      "  Installing build dependencies ... \u001b[?25ldone\n",
      "\u001b[?25h  Getting requirements to build wheel ... \u001b[?25ldone\n",
      "\u001b[?25h  Installing backend dependencies ... \u001b[?25ldone\n",
      "\u001b[?25h  Preparing metadata (pyproject.toml) ... \u001b[?25ldone\n",
      "\u001b[?25hCollecting scipy (from spekpy==2.0.11.1)\n",
      "  Downloading scipy-1.13.0-cp310-cp310-macosx_12_0_arm64.whl.metadata (60 kB)\n",
      "\u001b[2K     \u001b[90m━━━━━━━━━━━━━━━━━━━━━━━━━━━━━━━━━━━━━━━\u001b[0m \u001b[32m60.6/60.6 kB\u001b[0m \u001b[31m638.1 kB/s\u001b[0m eta \u001b[36m0:00:00\u001b[0ma \u001b[36m0:00:01\u001b[0m\n",
      "\u001b[?25hRequirement already satisfied: matplotlib in /Users/yukiharuta/.pyenv/versions/3.10.6/lib/python3.10/site-packages (from spekpy==2.0.11.1) (3.8.3)\n",
      "Requirement already satisfied: contourpy>=1.0.1 in /Users/yukiharuta/.pyenv/versions/3.10.6/lib/python3.10/site-packages (from matplotlib->spekpy==2.0.11.1) (1.2.0)\n",
      "Requirement already satisfied: cycler>=0.10 in /Users/yukiharuta/.pyenv/versions/3.10.6/lib/python3.10/site-packages (from matplotlib->spekpy==2.0.11.1) (0.12.1)\n",
      "Requirement already satisfied: fonttools>=4.22.0 in /Users/yukiharuta/.pyenv/versions/3.10.6/lib/python3.10/site-packages (from matplotlib->spekpy==2.0.11.1) (4.50.0)\n",
      "Requirement already satisfied: kiwisolver>=1.3.1 in /Users/yukiharuta/.pyenv/versions/3.10.6/lib/python3.10/site-packages (from matplotlib->spekpy==2.0.11.1) (1.4.5)\n",
      "Requirement already satisfied: numpy<2,>=1.21 in /Users/yukiharuta/.pyenv/versions/3.10.6/lib/python3.10/site-packages (from matplotlib->spekpy==2.0.11.1) (1.26.4)\n",
      "Requirement already satisfied: packaging>=20.0 in /Users/yukiharuta/.pyenv/versions/3.10.6/lib/python3.10/site-packages (from matplotlib->spekpy==2.0.11.1) (24.0)\n",
      "Requirement already satisfied: pillow>=8 in /Users/yukiharuta/.pyenv/versions/3.10.6/lib/python3.10/site-packages (from matplotlib->spekpy==2.0.11.1) (10.2.0)\n",
      "Requirement already satisfied: pyparsing>=2.3.1 in /Users/yukiharuta/.pyenv/versions/3.10.6/lib/python3.10/site-packages (from matplotlib->spekpy==2.0.11.1) (3.1.2)\n",
      "Requirement already satisfied: python-dateutil>=2.7 in /Users/yukiharuta/.pyenv/versions/3.10.6/lib/python3.10/site-packages (from matplotlib->spekpy==2.0.11.1) (2.9.0.post0)\n",
      "Requirement already satisfied: six>=1.5 in /Users/yukiharuta/.pyenv/versions/3.10.6/lib/python3.10/site-packages (from python-dateutil>=2.7->matplotlib->spekpy==2.0.11.1) (1.16.0)\n",
      "Downloading scipy-1.13.0-cp310-cp310-macosx_12_0_arm64.whl (30.3 MB)\n",
      "\u001b[2K   \u001b[90m━━━━━━━━━━━━━━━━━━━━━━━━━━━━━━━━━━━━━━━━\u001b[0m \u001b[32m30.3/30.3 MB\u001b[0m \u001b[31m17.7 MB/s\u001b[0m eta \u001b[36m0:00:00\u001b[0m00:01\u001b[0m00:01\u001b[0m\n",
      "\u001b[?25hBuilding wheels for collected packages: spekpy\n",
      "  Building wheel for spekpy (pyproject.toml) ... \u001b[?25ldone\n",
      "\u001b[?25h  Created wheel for spekpy: filename=spekpy-2.0.11.1-py3-none-any.whl size=82882066 sha256=ac0b81882c84ed92388fc896e4cad88032e6a17079644beb3a372927d4960111\n",
      "  Stored in directory: /private/var/folders/n_/_z_q62kx279gp1tfsgqh78s40000gn/T/pip-ephem-wheel-cache-0934_jk2/wheels/41/c8/42/453fe99eea5b37d60064e142295ef33cf8caae64fc528c446d\n",
      "Successfully built spekpy\n",
      "Installing collected packages: scipy, spekpy\n",
      "Successfully installed scipy-1.13.0 spekpy-2.0.11.1\n"
     ]
    }
   ],
   "source": [
    "! pip install spekpy_release/."
   ]
  },
  {
   "cell_type": "code",
   "execution_count": 3,
   "id": "b90dc4cd-1a5c-4962-8cd3-4a1fee4d6471",
   "metadata": {},
   "outputs": [],
   "source": [
    "import numpy as np\n",
    "from matplotlib import pyplot as plt\n",
    "import spekpy as sp\n",
    "import pandas as pd\n",
    "#print(\"\\n**Script to generate a filtered spectrum and print summary statistics to screen **\\n\")"
   ]
  },
  {
   "cell_type": "code",
   "execution_count": 4,
   "id": "2b9995e7-ff9e-4c02-95e1-7c8b5d9eb4b8",
   "metadata": {},
   "outputs": [],
   "source": [
    "# Define x-ray tube parameters\n",
    "\n",
    "# CHANGE THESE PARAMETERS\n",
    "kvp = [40] # Tube potential in kV (default: 100)\n",
    "z = 100 # Distance from source\n",
    "mas = 35  # Tube current\n",
    "\n",
    "\n",
    "# DON'T CHANGE THESE\n",
    "th = 20 # Anode angle in degrees (default: 12)\n",
    "dk = 0.5 # Spectrum bin width in keV (default: 0.5)\n",
    "physics = \"default\" # Legacy physics mode rather than default (default: \"default\")\n",
    "mu_data_source = \"nist\" # Penelope mu/mu_en data rather than NIST/XCOM (default: \"nist\")\n",
    "x = 0 # Point-of-interest displaced 5 cm towards cathode in anode-cathode direction (default: 0)\n",
    "y = 0 # Point-of-interest displaced -5 cm in orthogonal direction (right-hand-rule is applicable) (default: 0)\n",
    "brem = True # Whether the bremsstrahlung portion of spectrum is retained (default: True)\n",
    "char = True # Whether the characteristic portion of spectrum is retained (default: True)\n",
    "obli = True # Whether path-length through extrinsic filtration varies with x, y (default: True)\n"
   ]
  },
  {
   "cell_type": "code",
   "execution_count": 5,
   "id": "5a77c646-02a5-4ec3-ab9f-f82890fd70a1",
   "metadata": {},
   "outputs": [
    {
     "name": "stdout",
     "output_type": "stream",
     "text": [
      "kvp =  40\n",
      "Inputs\n",
      "------\n",
      "Tube Voltage: 40.0 [kVp]; Anode Angle: 20.0 [degrees]; Energy Bin: 0.5 [keV]; Bin shift fraction: None []; Physics Mode: spekpy-v1 [str]; Mu Data Source: nist [str]; Target: W [str]; \n",
      "x: 0.0 [cm]; y: 0.0 [cm]; z: 100.0 [cm]; Tube Load: 35.0 [mAs]; Bremsstrahlung Emission: True [bool]; Characteristic Emission: True [bool]; Oblique: True [bool]; Ref. air Kerma: None [uGy]; Ref. fluence: None [Photons cm^-2]; \n",
      "Filtration: [] [mm]; \n",
      "Outputs\n",
      "-------\n",
      "Fluence: 17420606492.7876 [Photons cm^-2];  Air Kerma: 406240.2050 [uGy]; Mean Energy: 11.2923 [keV]; \n",
      "First HVL Al: 0.0049 [mm Al];  Second HVL Al: 0.0192 [mm Al];  Homogeneity Coefficient Al: 0.2561 [-]; Effective Energy Al: 3.4906 [keV]; \n",
      "First HVL Cu: 0.0005 [mm Cu];  Second HVL Cu: 0.0038 [mm Cu];  Homogeneity Coefficient Cu: 0.1413 [-]; Effective Energy Cu: 9.2500 [keV]; \n",
      "\n",
      "X-ray power: 0.03152 mW/cm^2\n",
      "\n"
     ]
    }
   ],
   "source": [
    "# Generate spectrums for each energy in kvp list\n",
    "\n",
    "# use Air Kerma for dose rate\n",
    "\n",
    "for e in kvp:\n",
    "    print('kvp = ',str(e))\n",
    "    s = sp.Spek(kvp=e, th=th, dk=dk, physics=physics, mu_data_source=mu_data_source,\n",
    "      x=x, y=y, z=z, mas=mas, brem=brem, char=char, obli=obli)\n",
    "\n",
    "    # Uncomment the line below and you can filter the spectrum with copper\n",
    "    # s.filter('C',0.125) # carbon, mm\n",
    "    # s.filter('Cu',0.36)\n",
    "\n",
    "    # Print full summary of spectrum metrics\n",
    "    s.summarize(mode='full')\n",
    "\n",
    "\n",
    "    fluence = s.get_flu()  # photons/ (s * cm^2)\n",
    "    conver = 1.6022E-16  # J per keV\n",
    "    spectrum = s.get_spectrum()\n",
    "    energies = np.copy(spectrum[0])  # Energies only\n",
    "    spectra = np.copy(spectrum[1])  # Weights only\n",
    "    spectra = spectra / np.linalg.norm(spectra, ord=1)  # Normalize to sum to 1\n",
    "    spectra = spectra * fluence  # Now the spectra weights sum to the total fluence\n",
    "\n",
    "    energies = energies * conver  # Convert energies to J\n",
    "\n",
    "    total_energy = np.multiply(energies, spectra)\n",
    "    total_power = np.sum(total_energy)\n",
    "    print(rf'X-ray power: {total_power * 1E3:0.5f} mW/cm^2')\n",
    "    print()"
   ]
  },
  {
   "cell_type": "code",
   "execution_count": null,
   "id": "e53cac51",
   "metadata": {},
   "outputs": [],
   "source": []
  }
 ],
 "metadata": {
  "kernelspec": {
   "display_name": "Python 3 (ipykernel)",
   "language": "python",
   "name": "python3"
  },
  "language_info": {
   "codemirror_mode": {
    "name": "ipython",
    "version": 3
   },
   "file_extension": ".py",
   "mimetype": "text/x-python",
   "name": "python",
   "nbconvert_exporter": "python",
   "pygments_lexer": "ipython3",
   "version": "3.10.6"
  }
 },
 "nbformat": 4,
 "nbformat_minor": 5
}
